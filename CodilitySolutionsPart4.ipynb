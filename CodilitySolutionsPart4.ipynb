{
 "cells": [
  {
   "cell_type": "markdown",
   "metadata": {},
   "source": [
    "# CountSemiprimes\n",
    "A prime is a positive integer X that has exactly two distinct divisors: 1 and X. The first few prime integers are 2, 3, 5, 7, 11 and 13.\n",
    "\n",
    "A semiprime is a natural number that is the product of two (not necessarily distinct) prime numbers. The first few semiprimes are 4, 6, 9, 10, 14, 15, 21, 22, 25, 26.\n",
    "\n",
    "You are given two non-empty arrays P and Q, each consisting of M integers. These arrays represent queries about the number of semiprimes within specified ranges.\n",
    "\n",
    "Query K requires you to find the number of semiprimes within the range (P[K], Q[K]), where 1 ≤ P[K] ≤ Q[K] ≤ N.\n",
    "\n",
    "For example, consider an integer N = 26 and arrays P, Q such that:\n",
    "\n",
    "    P[0] = 1    Q[0] = 26\n",
    "    P[1] = 4    Q[1] = 10\n",
    "    P[2] = 16   Q[2] = 20\n",
    "The number of semiprimes within each of these ranges is as follows:\n",
    "\n",
    "(1, 26) is 10,\n",
    "(4, 10) is 4,\n",
    "(16, 20) is 0.\n",
    "Write a function:\n",
    "\n",
    "def solution(N, P, Q)\n",
    "\n",
    "that, given an integer N and two non-empty arrays P and Q consisting of M integers, returns an array consisting of M elements specifying the consecutive answers to all the queries.\n",
    "\n",
    "For example, given an integer N = 26 and arrays P, Q such that:\n",
    "\n",
    "    P[0] = 1    Q[0] = 26\n",
    "    P[1] = 4    Q[1] = 10\n",
    "    P[2] = 16   Q[2] = 20\n",
    "the function should return the values [10, 4, 0], as explained above.\n",
    "\n",
    "Write an efficient algorithm for the following assumptions:\n",
    "\n",
    "N is an integer within the range [1..50,000];\n",
    "M is an integer within the range [1..30,000];\n",
    "each element of arrays P, Q is an integer within the range [1..N];\n",
    "P[i] ≤ Q[i]."
   ]
  },
  {
   "cell_type": "code",
   "execution_count": 59,
   "metadata": {},
   "outputs": [
    {
     "name": "stdout",
     "output_type": "stream",
     "text": [
      "[4, 6, 9, 10, 14, 15, 21, 22, 25, 26]\n",
      "[4, 6, 9, 10]\n",
      "[]\n"
     ]
    }
   ],
   "source": [
    "def prime(N):\n",
    "    primelist=[2,3]\n",
    "    if N==2:\n",
    "        return [2]\n",
    "    if N==3:\n",
    "        return [2,3]\n",
    "     \n",
    "    for i in range(4,N+1):\n",
    "      \n",
    "        flag=0\n",
    "        for j in range(i-1,1,-1):\n",
    "            if i%j==0:\n",
    "                flag=1\n",
    "        if flag==0:\n",
    "            primelist.append(i)\n",
    "    return(primelist)\n",
    "\n",
    "def semiprime(M, a,b):\n",
    "    pl=prime(M)\n",
    "    spl=[]\n",
    "    \n",
    "    for i in range(len(pl)):\n",
    "        if (pl[i]**2)>=a and (pl[i]**2)<=b:\n",
    "            spl.append(pl[i]**2)\n",
    "            \n",
    "        for j in range(i+1,len(pl)):\n",
    "            if pl[i]*pl[j]>=a and pl[i]*pl[j]<=b:\n",
    "                spl.append(pl[i]*pl[j]) \n",
    "    \n",
    "                \n",
    "    return sorted(spl)\n",
    "a=[1,4,16]\n",
    "b=[26,10,20]\n",
    "for i in range(len(a)):\n",
    "    m=max(a[i], b[i])\n",
    "    print(semiprime(m, a[i], b[i]))\n",
    "#print(semiprime(8,2,8))"
   ]
  },
  {
   "cell_type": "markdown",
   "metadata": {},
   "source": [
    "# Chocolate By Numbers\n",
    "Two positive integers N and M are given. Integer N represents the number of chocolates arranged in a circle, numbered from 0 to N − 1.\n",
    "\n",
    "You start to eat the chocolates. After eating a chocolate you leave only a wrapper.\n",
    "\n",
    "You begin with eating chocolate number 0. Then you omit the next M − 1 chocolates or wrappers on the circle, and eat the following one.\n",
    "\n",
    "More precisely, if you ate chocolate number X, then you will next eat the chocolate with number (X + M) modulo N (remainder of division).\n",
    "\n",
    "You stop eating when you encounter an empty wrapper.\n",
    "\n",
    "For example, given integers N = 10 and M = 4. You will eat the following chocolates: 0, 4, 8, 2, 6.\n",
    "\n",
    "The goal is to count the number of chocolates that you will eat, following the above rules.\n",
    "\n",
    "Write a function:\n",
    "\n",
    "def solution(N, M)\n",
    "\n",
    "that, given two positive integers N and M, returns the number of chocolates that you will eat.\n",
    "\n",
    "For example, given integers N = 10 and M = 4. the function should return 5, as explained above.\n",
    "\n",
    "Write an efficient algorithm for the following assumptions:\n",
    "\n",
    "N and M are integers within the range [1..1,000,000,000]."
   ]
  },
  {
   "cell_type": "code",
   "execution_count": 23,
   "metadata": {},
   "outputs": [
    {
     "name": "stdout",
     "output_type": "stream",
     "text": [
      "4\n",
      "8\n",
      "2\n",
      "6\n",
      "0\n"
     ]
    },
    {
     "data": {
      "text/plain": [
       "5"
      ]
     },
     "execution_count": 23,
     "metadata": {},
     "output_type": "execute_result"
    }
   ],
   "source": [
    "def solution(N, M):\n",
    "    A=[False]*N\n",
    "    i=0\n",
    "    ch=0\n",
    "    while A[i]!=True:\n",
    "        if i<=N-1:\n",
    "            A[i]=True\n",
    "            i+=M\n",
    "            ch+=1\n",
    "            if i>N-1:\n",
    "                i=i-(N-1)-1   \n",
    "            print(i)\n",
    "    return ch\n",
    "        \n",
    "solution(10,4)   "
   ]
  },
  {
   "cell_type": "markdown",
   "metadata": {},
   "source": [
    "# AbsDistinct\n",
    "A non-empty array A consisting of N numbers is given. The array is sorted in non-decreasing order. The absolute distinct count of this array is the number of distinct absolute values among the elements of the array.\n",
    "\n",
    "For example, consider array A such that:\n",
    "\n",
    "  A[0] = -5\n",
    "  A[1] = -3\n",
    "  A[2] = -1\n",
    "  A[3] =  0\n",
    "  A[4] =  3\n",
    "  A[5] =  6\n",
    "The absolute distinct count of this array is 5, because there are 5 distinct absolute values among the elements of this array, namely 0, 1, 3, 5 and 6.\n",
    "\n",
    "Write a function:\n",
    "\n",
    "def solution(A)\n",
    "\n",
    "that, given a non-empty array A consisting of N numbers, returns absolute distinct count of array A.\n",
    "\n",
    "For example, given array A such that:\n",
    "\n",
    "  A[0] = -5\n",
    "  A[1] = -3\n",
    "  A[2] = -1\n",
    "  A[3] =  0\n",
    "  A[4] =  3\n",
    "  A[5] =  6\n",
    "the function should return 5, as explained above.\n",
    "\n",
    "Write an efficient algorithm for the following assumptions:\n",
    "\n",
    "N is an integer within the range [1..100,000];\n",
    "each element of array A is an integer within the range [−2,147,483,648..2,147,483,647];\n",
    "array A is sorted in non-decreasing order."
   ]
  },
  {
   "cell_type": "code",
   "execution_count": 27,
   "metadata": {},
   "outputs": [
    {
     "name": "stdout",
     "output_type": "stream",
     "text": [
      "3\n"
     ]
    }
   ],
   "source": [
    "def solution(A):\n",
    "    dict_={}\n",
    "    for i in A:\n",
    "        dict_[abs(i)]=i\n",
    "        \n",
    "    return len(dict_)\n",
    "    \n",
    "        \n",
    "A=[-1,3,-1,3,-1,1,0]\n",
    "print(solution(A)) "
   ]
  },
  {
   "cell_type": "markdown",
   "metadata": {},
   "source": [
    "# TieRopes\n",
    "There are N ropes numbered from 0 to N − 1, whose lengths are given in an array A, lying on the floor in a line. For each I (0 ≤ I < N), the length of rope I on the line is A[I].\n",
    "\n",
    "We say that two ropes I and I + 1 are adjacent. Two adjacent ropes can be tied together with a knot, and the length of the tied rope is the sum of lengths of both ropes. The resulting new rope can then be tied again.\n",
    "\n",
    "For a given integer K, the goal is to tie the ropes in such a way that the number of ropes whose length is greater than or equal to K is maximal.\n",
    "\n",
    "For example, consider K = 4 and array A such that:\n",
    "\n",
    "    A[0] = 1\n",
    "    A[1] = 2\n",
    "    A[2] = 3\n",
    "    A[3] = 4\n",
    "    A[4] = 1\n",
    "    A[5] = 1\n",
    "    A[6] = 3\n",
    "The ropes are shown in the figure below.\n",
    "\n",
    "\n",
    "\n",
    "We can tie:\n",
    "\n",
    "rope 1 with rope 2 to produce a rope of length A[1] + A[2] = 5;\n",
    "rope 4 with rope 5 with rope 6 to produce a rope of length A[4] + A[5] + A[6] = 5.\n",
    "After that, there will be three ropes whose lengths are greater than or equal to K = 4. It is not possible to produce four such ropes.\n",
    "\n",
    "Write a function:\n",
    "\n",
    "def solution(K, A)\n",
    "\n",
    "that, given an integer K and a non-empty array A of N integers, returns the maximum number of ropes of length greater than or equal to K that can be created.\n",
    "\n",
    "For example, given K = 4 and array A such that:\n",
    "\n",
    "    A[0] = 1\n",
    "    A[1] = 2\n",
    "    A[2] = 3\n",
    "    A[3] = 4\n",
    "    A[4] = 1\n",
    "    A[5] = 1\n",
    "    A[6] = 3\n",
    "the function should return 3, as explained above.\n",
    "\n",
    "Write an efficient algorithm for the following assumptions:\n",
    "\n",
    "N is an integer within the range [1..100,000];\n",
    "K is an integer within the range [1..1,000,000,000];\n",
    "each element of array A is an integer within the range [1..1,000,000,000]."
   ]
  },
  {
   "cell_type": "code",
   "execution_count": 28,
   "metadata": {},
   "outputs": [
    {
     "name": "stdout",
     "output_type": "stream",
     "text": [
      "3\n"
     ]
    }
   ],
   "source": [
    "def solution(A, k):  \n",
    "    NT=0\n",
    "    CR=0\n",
    "    for i in A:\n",
    "        CR+=i\n",
    "        if CR>=k:\n",
    "            NT+=1\n",
    "            CR=0\n",
    "    return NT\n",
    "\n",
    "A=[1,2,3,4,1,1,3]\n",
    "print(solution(A, 4))"
   ]
  },
  {
   "cell_type": "markdown",
   "metadata": {},
   "source": [
    "# MaxNonoverlappingSegments\n",
    "Located on a line are N segments, numbered from 0 to N − 1, whose positions are given in arrays A and B. For each I (0 ≤ I < N) the position of segment I is from A[I] to B[I] (inclusive). The segments are sorted by their ends, which means that B[K] ≤ B[K + 1] for K such that 0 ≤ K < N − 1.\n",
    "\n",
    "Two segments I and J, such that I ≠ J, are overlapping if they share at least one common point. In other words, A[I] ≤ A[J] ≤ B[I] or A[J] ≤ A[I] ≤ B[J].\n",
    "\n",
    "We say that the set of segments is non-overlapping if it contains no two overlapping segments. The goal is to find the size of a non-overlapping set containing the maximal number of segments.\n",
    "\n",
    "For example, consider arrays A, B such that:\n",
    "\n",
    "    A[0] = 1    B[0] = 5\n",
    "    A[1] = 3    B[1] = 6\n",
    "    A[2] = 7    B[2] = 8\n",
    "    A[3] = 9    B[3] = 9\n",
    "    A[4] = 9    B[4] = 10\n",
    "\n",
    "The size of a non-overlapping set containing a maximal number of segments is 3. For example, possible sets are {0, 2, 3}, {0, 2, 4}, {1, 2, 3} or {1, 2, 4}. There is no non-overlapping set with four segments.\n",
    "\n",
    "Write a function:\n",
    "\n",
    "def solution(A, B)\n",
    "\n",
    "that, given two arrays A and B consisting of N integers, returns the size of a non-overlapping set containing a maximal number of segments.\n",
    "\n",
    "For example, given arrays A, B shown above, the function should return 3, as explained above.\n",
    "\n",
    "Write an efficient algorithm for the following assumptions:\n",
    "\n",
    "N is an integer within the range [0..30,000];\n",
    "each element of arrays A, B is an integer within the range [0..1,000,000,000];\n",
    "A[I] ≤ B[I], for each I (0 ≤ I < N);\n",
    "B[K] ≤ B[K + 1], for each K (0 ≤ K < N − 1)."
   ]
  },
  {
   "cell_type": "code",
   "execution_count": 34,
   "metadata": {},
   "outputs": [
    {
     "data": {
      "text/plain": [
       "3"
      ]
     },
     "execution_count": 34,
     "metadata": {},
     "output_type": "execute_result"
    }
   ],
   "source": [
    "def solution(A, B):\n",
    "    if len(A) < 1:\n",
    "        return 0     \n",
    "    NO = 1\n",
    "    PE= B[0]\n",
    "     \n",
    "    for i in range(1, len(A)):\n",
    "        if A[i] > PE:\n",
    "            NO += 1\n",
    "            PE = B[i]  \n",
    "    return NO\n",
    "\n",
    "A=[1,3,7,9,9]\n",
    "B=[5,6,8,9,10]\n",
    "print(solution(A,B))"
   ]
  }
 ],
 "metadata": {
  "kernelspec": {
   "display_name": "Python 3",
   "language": "python",
   "name": "python3"
  },
  "language_info": {
   "codemirror_mode": {
    "name": "ipython",
    "version": 3
   },
   "file_extension": ".py",
   "mimetype": "text/x-python",
   "name": "python",
   "nbconvert_exporter": "python",
   "pygments_lexer": "ipython3",
   "version": "3.7.3"
  }
 },
 "nbformat": 4,
 "nbformat_minor": 2
}
